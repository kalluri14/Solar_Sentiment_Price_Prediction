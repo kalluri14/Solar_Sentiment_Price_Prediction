{
 "cells": [
  {
   "cell_type": "markdown",
   "metadata": {},
   "source": [
    "# Load your data"
   ]
  },
  {
   "cell_type": "code",
   "execution_count": 1,
   "metadata": {},
   "outputs": [],
   "source": [
    "import pandas as pd\n",
    "import numpy as np\n",
    "# Step 1: Load Solar Articles CSV\n",
    "file_path = 'Solar Articles.csv'  # <-- your CSV filename\n",
    "df = pd.read_csv(file_path)"
   ]
  },
  {
   "cell_type": "markdown",
   "metadata": {},
   "source": [
    "## Extracting solar relavant files only"
   ]
  },
  {
   "cell_type": "code",
   "execution_count": 2,
   "metadata": {},
   "outputs": [
    {
     "name": "stdout",
     "output_type": "stream",
     "text": [
      "                publishedAt  \\\n",
      "0 2023-01-04 13:00:00+00:00   \n",
      "1 2023-01-04 13:00:00+00:00   \n",
      "2 2023-01-05 05:59:00+00:00   \n",
      "3 2023-01-07 16:11:31+00:00   \n",
      "4 2023-01-09 09:56:00+00:00   \n",
      "\n",
      "                                               title  \\\n",
      "0  Green jobs are booming, but too few employees ...   \n",
      "1  Green jobs are booming, but too few employees ...   \n",
      "2  Massive solar farm plans for East Devon might ...   \n",
      "3  Self-healing semiconductor withstands light eq...   \n",
      "4  Solar Startup Enpal Nears $2.4 Billion Valuati...   \n",
      "\n",
      "                                         description  \\\n",
      "0  Green jobs go beyond solar panel installation ...   \n",
      "1  Green jobs go beyond solar panel installation ...   \n",
      "2  “There’s not a solar panel in sight in Cranbro...   \n",
      "3  A new type of solar panel has achieved 9 perce...   \n",
      "4  The German-based solar-panel company is on tra...   \n",
      "\n",
      "                                             content  solar_panel_price  \n",
      "0  To meet today’s global sustainability challeng...         270.993428  \n",
      "1  To meet today’s global sustainability challeng...         270.993428  \n",
      "2  Get the pick of the week's best stories and fa...         270.993428  \n",
      "3  \"In the end, we believe that artificial photos...         272.974289  \n",
      "4  Enpal GmbH is close to raising new funds from ...         269.435999  \n"
     ]
    }
   ],
   "source": [
    "# Step 1.1: Fix publishedAt immediately\n",
    "df['publishedAt'] = pd.to_datetime(df['publishedAt'], errors='coerce')\n",
    "\n",
    "# Step 2: Create combined text field for filtering\n",
    "df['full_text'] = (df['title'].fillna('') + ' ' +\n",
    "                   df['description'].fillna('') + ' ' +\n",
    "                   df['content'].fillna('')).str.lower()\n",
    "\n",
    "# Step 3: Updated broader keywords\n",
    "solar_keywords = [\n",
    "    'solar panel', 'solar panels', 'solar installation',\n",
    "    'solar energy', 'solar power', 'solar farm', 'solar project'\n",
    "]\n",
    "\n",
    "# Step 4: Filter relevant articles\n",
    "mask = df['full_text'].apply(lambda x: any(keyword in x for keyword in solar_keywords))\n",
    "solar_df = df[mask].copy()\n",
    "\n",
    "# Step 5: Create simulated price data\n",
    "date_range = pd.date_range(start=solar_df['publishedAt'].min(), end=solar_df['publishedAt'].max())\n",
    "np.random.seed(42)\n",
    "prices = 270 - np.linspace(0, 20, len(date_range)) + np.random.normal(0, 2, len(date_range))\n",
    "\n",
    "price_df = pd.DataFrame({'publishedAt': date_range, 'solar_panel_price': prices})\n",
    "\n",
    "# Step 6: Merge solar articles with prices\n",
    "solar_df = pd.merge_asof(\n",
    "    solar_df.sort_values('publishedAt'), \n",
    "    price_df.sort_values('publishedAt'), \n",
    "    on='publishedAt',\n",
    "    direction='backward'\n",
    ")\n",
    "\n",
    "# Step 7: Final Clean Dataset\n",
    "solar_df = solar_df[['publishedAt', 'title', 'description', 'content', 'solar_panel_price']]\n",
    "\n",
    "# Step 8: Preview\n",
    "print(solar_df.head())"
   ]
  },
  {
   "cell_type": "code",
   "execution_count": 3,
   "metadata": {},
   "outputs": [
    {
     "data": {
      "text/plain": [
       "(2393, 5)"
      ]
     },
     "execution_count": 3,
     "metadata": {},
     "output_type": "execute_result"
    }
   ],
   "source": [
    "solar_df.shape"
   ]
  },
  {
   "cell_type": "code",
   "execution_count": 4,
   "metadata": {},
   "outputs": [
    {
     "data": {
      "text/plain": [
       "Index(['publishedAt', 'title', 'description', 'content', 'solar_panel_price'], dtype='object')"
      ]
     },
     "execution_count": 4,
     "metadata": {},
     "output_type": "execute_result"
    }
   ],
   "source": [
    "solar_df.columns"
   ]
  },
  {
   "cell_type": "code",
   "execution_count": 5,
   "metadata": {},
   "outputs": [
    {
     "name": "stdout",
     "output_type": "stream",
     "text": [
      "Minimum publish date: 2023-01-04 13:00:00+00:00\n",
      "Maximum publish date: 2025-04-20 00:55:00+00:00\n"
     ]
    }
   ],
   "source": [
    "print(f\"Minimum publish date: {solar_df['publishedAt'].min()}\")\n",
    "print(f\"Maximum publish date: {solar_df['publishedAt'].max()}\")\n"
   ]
  },
  {
   "cell_type": "code",
   "execution_count": 6,
   "metadata": {},
   "outputs": [],
   "source": [
    "# Install transformers if needed\n",
    "# !pip install sentence-transformers\n",
    "# !pip install transformers torch"
   ]
  },
  {
   "cell_type": "code",
   "execution_count": 7,
   "metadata": {},
   "outputs": [
    {
     "name": "stdout",
     "output_type": "stream",
     "text": [
      "Shape of BERT feature matrix: (2393, 384)\n"
     ]
    }
   ],
   "source": [
    "from transformers import AutoTokenizer, AutoModel\n",
    "import torch\n",
    "import numpy as np\n",
    "\n",
    "# Step 1: Load MiniLM Model (small, fast, PyTorch-only)\n",
    "tokenizer = AutoTokenizer.from_pretrained('sentence-transformers/all-MiniLM-L6-v2')\n",
    "model = AutoModel.from_pretrained('sentence-transformers/all-MiniLM-L6-v2')\n",
    "\n",
    "# Step 2: Create combined text field\n",
    "solar_df['combined_text'] = (\n",
    "    solar_df['title'].fillna('') + ' ' +\n",
    "    solar_df['description'].fillna('') + ' ' +\n",
    "    solar_df['content'].fillna('')\n",
    ")\n",
    "\n",
    "# Step 3: BERT Embedder Function\n",
    "def mean_pooling(model_output, attention_mask):\n",
    "    token_embeddings = model_output[0]  # First element of model_output contains token embeddings\n",
    "    input_mask_expanded = attention_mask.unsqueeze(-1).expand(token_embeddings.size()).float()\n",
    "    return torch.sum(token_embeddings * input_mask_expanded, 1) / torch.clamp(input_mask_expanded.sum(1), min=1e-9)\n",
    "\n",
    "def encode_texts(text_list, batch_size=32):\n",
    "    embeddings = []\n",
    "    model.eval()\n",
    "    \n",
    "    with torch.no_grad():\n",
    "        for start_idx in range(0, len(text_list), batch_size):\n",
    "            batch_texts = text_list[start_idx:start_idx+batch_size]\n",
    "            encoded_input = tokenizer(batch_texts, padding=True, truncation=True, return_tensors='pt', max_length=512)\n",
    "            model_output = model(**encoded_input)\n",
    "            batch_embeddings = mean_pooling(model_output, encoded_input['attention_mask'])\n",
    "            embeddings.append(batch_embeddings.cpu().numpy())\n",
    "            \n",
    "    return np.vstack(embeddings)\n",
    "\n",
    "# Step 4: Generate BERT embeddings\n",
    "X_text_features = encode_texts(solar_df['combined_text'].tolist())\n",
    "\n",
    "print(f\"Shape of BERT feature matrix: {X_text_features.shape}\")\n"
   ]
  },
  {
   "cell_type": "markdown",
   "metadata": {},
   "source": [
    "# Generating sentiment labels using bert"
   ]
  },
  {
   "cell_type": "code",
   "execution_count": 8,
   "metadata": {},
   "outputs": [
    {
     "name": "stderr",
     "output_type": "stream",
     "text": [
      "Device set to use mps:0\n"
     ]
    },
    {
     "name": "stdout",
     "output_type": "stream",
     "text": [
      "Sentiment label distribution:\n",
      "sentiment_label\n",
      "Positive    1204\n",
      "Negative    1189\n",
      "Name: count, dtype: int64\n",
      "\n",
      "Sample prices:\n",
      "0    270.993428\n",
      "1    270.993428\n",
      "2    270.993428\n",
      "3    272.974289\n",
      "4    269.435999\n",
      "Name: solar_panel_price, dtype: float64\n"
     ]
    }
   ],
   "source": [
    "from transformers import pipeline\n",
    "\n",
    "# Step 11: Load Sentiment Pipeline from DistilBERT\n",
    "sentiment_pipeline = pipeline('sentiment-analysis', model='distilbert-base-uncased-finetuned-sst-2-english',\n",
    "    framework='pt')\n",
    "\n",
    "# Step 12: Define a function to apply it\n",
    "def get_bert_sentiment(text):\n",
    "    try:\n",
    "        result = sentiment_pipeline(text[:512])[0]  # Limit to 512 tokens max\n",
    "        label = result['label']\n",
    "        if label == 'POSITIVE':\n",
    "            return 'Positive'\n",
    "        elif label == 'NEGATIVE':\n",
    "            return 'Negative'\n",
    "        else:\n",
    "            return 'Neutral'\n",
    "    except Exception as e:\n",
    "        print(f\"Error: {e}\")\n",
    "        return 'Neutral'\n",
    "\n",
    "# Step 13: Apply on your combined_text field\n",
    "solar_df['sentiment_label'] = solar_df['combined_text'].apply(get_bert_sentiment)\n",
    "\n",
    "# Step 14: Create target variables\n",
    "y_sentiment = solar_df['sentiment_label']\n",
    "y_price = solar_df['solar_panel_price']\n",
    "\n",
    "# Step 15: Preview\n",
    "print(\"Sentiment label distribution:\")\n",
    "print(y_sentiment.value_counts())\n",
    "print(\"\\nSample prices:\")\n",
    "print(y_price.head())"
   ]
  },
  {
   "cell_type": "markdown",
   "metadata": {},
   "source": [
    "# Sentiment Classifier model"
   ]
  },
  {
   "cell_type": "code",
   "execution_count": 9,
   "metadata": {},
   "outputs": [
    {
     "name": "stdout",
     "output_type": "stream",
     "text": [
      "Training samples: 1914, Test samples: 479\n",
      "\n",
      "Classification Report:\n",
      "              precision    recall  f1-score   support\n",
      "\n",
      "    Negative       0.72      0.68      0.70       238\n",
      "    Positive       0.70      0.74      0.72       241\n",
      "\n",
      "    accuracy                           0.71       479\n",
      "   macro avg       0.71      0.71      0.71       479\n",
      "weighted avg       0.71      0.71      0.71       479\n",
      "\n",
      "\n",
      "Confusion Matrix:\n",
      "[[163  75]\n",
      " [ 63 178]]\n"
     ]
    }
   ],
   "source": [
    "# Step 1: Import Libraries\n",
    "from sklearn.model_selection import train_test_split\n",
    "from sklearn.linear_model import LogisticRegression\n",
    "from sklearn.metrics import classification_report, confusion_matrix\n",
    "\n",
    "# Step 2: Train/Test Split\n",
    "X_train, X_test, y_train, y_test = train_test_split(\n",
    "    X_text_features, y_sentiment, \n",
    "    test_size=0.2, random_state=42, stratify=y_sentiment\n",
    ")\n",
    "\n",
    "print(f\"Training samples: {X_train.shape[0]}, Test samples: {X_test.shape[0]}\")\n",
    "\n",
    "# Step 3: Train Logistic Regression Classifier\n",
    "classifier = LogisticRegression(max_iter=1000, solver='lbfgs')  # max_iter needed to ensure convergence\n",
    "classifier.fit(X_train, y_train)\n",
    "\n",
    "# Step 4: Predict on Test Set\n",
    "y_pred = classifier.predict(X_test)\n",
    "\n",
    "# Step 5: Evaluate the Classifier\n",
    "print(\"\\nClassification Report:\")\n",
    "print(classification_report(y_test, y_pred))\n",
    "\n",
    "print(\"\\nConfusion Matrix:\")\n",
    "print(confusion_matrix(y_test, y_pred))\n"
   ]
  },
  {
   "cell_type": "markdown",
   "metadata": {},
   "source": [
    "# Checking 5 random sentiment predictions "
   ]
  },
  {
   "cell_type": "code",
   "execution_count": 10,
   "metadata": {},
   "outputs": [
    {
     "name": "stdout",
     "output_type": "stream",
     "text": [
      "\n",
      "Sample Article Text:\n",
      "More rooftop solar in cities would help solve NZ’s energy crisis - and build disaster resilience Just 14 of Auckland’s largest building rooftops add up to the same area as the biggest solar farm – but they could generate electricity where it’s most used to keep the lights on during disasters. New Ze...\n",
      "True Sentiment: Negative\n",
      "Predicted Sentiment: Positive\n",
      "\n",
      "Sample Article Text:\n",
      "'Virtual power plant' model could convince more Albertans to switch to solar CALGARY — An electricity retailer in Alberta is betting it can entice more homeowners to make the switch to solar panels by launching what it calls Canada's first retail, 100 per cent green energy-based \"virtual power plant...\n",
      "True Sentiment: Positive\n",
      "Predicted Sentiment: Positive\n",
      "\n",
      "Sample Article Text:\n",
      "Adani Indicted in Major Bribery and Fraud Case Gautam Adani, chair of Adani Group, is indicted in New York over his alleged involvement in a multibillion-dollar bribery and fraud scheme. The charges involve corruption to secure solar energy contracts and violations of the U.S. Foreign Corrupt Practi...\n",
      "True Sentiment: Negative\n",
      "Predicted Sentiment: Negative\n",
      "\n",
      "Sample Article Text:\n",
      "Floating solar panels could power London City Airport, says Sadiq Khan The Royal Docks Management Authority said that although the scheme is currently unfunded, it remains on their “aspiration list” of projects A vast floating ‘solar array’ to help power London City Airport remains an “aspiration”, ...\n",
      "True Sentiment: Negative\n",
      "Predicted Sentiment: Positive\n",
      "\n",
      "Sample Article Text:\n",
      "Solar seen more than half of new U.S. electric generating capacity in 2023 - EIA More than half of the 54.5 GW of new utility-scale electric generating capacity projected to be added to the U.S. grid in 2023 will be powered by solar energy, the EIA said Monday More than half of the 54.5 GW of new ut...\n",
      "True Sentiment: Negative\n",
      "Predicted Sentiment: Positive\n"
     ]
    }
   ],
   "source": [
    "# Pick a few random samples\n",
    "sample_indices = np.random.choice(solar_df.index, size=5, replace=False)\n",
    "\n",
    "for idx in sample_indices:\n",
    "    article_text = solar_df.loc[idx, 'combined_text']\n",
    "    true_sentiment = solar_df.loc[idx, 'sentiment_label']\n",
    "    \n",
    "    # Encode the text using the BERT model you built\n",
    "    encoded_input = tokenizer(article_text, padding=True, truncation=True, return_tensors='pt', max_length=512)\n",
    "    with torch.no_grad():\n",
    "        model_output = model(**encoded_input)\n",
    "        pooled_output = mean_pooling(model_output, encoded_input['attention_mask'])\n",
    "        article_embedding = pooled_output.cpu().numpy()\n",
    "\n",
    "    # Predict using your trained Logistic Regression model\n",
    "    predicted_sentiment = classifier.predict(article_embedding)[0]\n",
    "\n",
    "    print(f\"\\nSample Article Text:\\n{article_text[:300]}...\")  # show only first 300 chars\n",
    "    print(f\"True Sentiment: {true_sentiment}\")\n",
    "    print(f\"Predicted Sentiment: {predicted_sentiment}\")\n"
   ]
  },
  {
   "cell_type": "markdown",
   "metadata": {},
   "source": [
    "# Price Predictor Model"
   ]
  },
  {
   "cell_type": "code",
   "execution_count": 11,
   "metadata": {},
   "outputs": [
    {
     "name": "stdout",
     "output_type": "stream",
     "text": [
      "Training samples: 1914, Test samples: 479\n",
      "\n",
      "Price Prediction MAE: 4.15\n",
      "Price Prediction RMSE: 5.09\n"
     ]
    }
   ],
   "source": [
    "# Step 1: Import Libraries\n",
    "from sklearn.ensemble import RandomForestRegressor\n",
    "from sklearn.metrics import mean_absolute_error, mean_squared_error\n",
    "from sklearn.model_selection import train_test_split\n",
    "import numpy as np\n",
    "\n",
    "# Step 2: Train/Test Split\n",
    "X_train_price, X_test_price, y_train_price, y_test_price = train_test_split(\n",
    "    X_text_features, y_price, \n",
    "    test_size=0.2, random_state=42\n",
    ")\n",
    "\n",
    "print(f\"Training samples: {X_train_price.shape[0]}, Test samples: {X_test_price.shape[0]}\")\n",
    "\n",
    "# Step 3: Train Random Forest Regressor\n",
    "price_model = RandomForestRegressor(n_estimators=100, random_state=42)\n",
    "price_model.fit(X_train_price, y_train_price)\n",
    "\n",
    "# Step 4: Predict on Test Set\n",
    "y_pred_price = price_model.predict(X_test_price)\n",
    "\n",
    "# Step 5: Evaluate\n",
    "mae = mean_absolute_error(y_test_price, y_pred_price)\n",
    "rmse = np.sqrt(mean_squared_error(y_test_price, y_pred_price))\n",
    "\n",
    "print(f\"\\nPrice Prediction MAE: {mae:.2f}\")\n",
    "print(f\"Price Prediction RMSE: {rmse:.2f}\")\n"
   ]
  },
  {
   "cell_type": "markdown",
   "metadata": {},
   "source": [
    "# Checking 5 random price predictions"
   ]
  },
  {
   "cell_type": "code",
   "execution_count": 12,
   "metadata": {},
   "outputs": [
    {
     "name": "stdout",
     "output_type": "stream",
     "text": [
      "\n",
      "Sample Article Text:\n",
      "Solar power helps promote integrated village development in Maharashtra’s Vanvasi The project was by the Rotary Club of Bombay (RCB), in collaboration with Chirag Rural Development Foundation. The Rotary Club of Bombay (RCB), in collaboration with Chirag Rural Development Foundation, completed its i...\n",
      "True Solar Panel Price: $266.89\n",
      "Predicted Solar Panel Price: $259.98\n",
      "\n",
      "Sample Article Text:\n",
      "Clean energy’s dirty secret: the trail of waste left by India’s solar power boom As vast solar plants multiply, so does the scrap, set to reach 19m tonnes by 2050. But disposing of the waste often falls to informal traders who risk injury when dismantling broken panels Under the scorching sun, a sea...\n",
      "True Solar Panel Price: $257.63\n",
      "Predicted Solar Panel Price: $259.55\n",
      "\n",
      "Sample Article Text:\n",
      "India's energy demand to grow 2-2.5 times by 2047, coal to dominate, says Economic Survey 2023-24 Survey says there needs to be ‘orderly’ transition to mix of energy sources, which includes hydro, solar, wind & green hydrogen. It also talks about balancing development & climate change. “Despite bein...\n",
      "True Solar Panel Price: $258.91\n",
      "Predicted Solar Panel Price: $260.18\n",
      "\n",
      "Sample Article Text:\n",
      "China’s spending on green energy is causing a global glut The country’s massive funding of renewables has drawn odd newcomers and led to an oversupply of solar components. The new entrants are examples of a green-energy spending binge in China that is fueling the country’s rapid build-out of renewab...\n",
      "True Solar Panel Price: $264.19\n",
      "Predicted Solar Panel Price: $262.12\n",
      "\n",
      "Sample Article Text:\n",
      "Jackery 300 Plus review: This pint-sized portable power station is one of the best I've tested Gareth Butterfield has been using the \"cute\" new Jackery 300 Plus Solar Generator for several months I've tested dozens of portable power stations over the years, from the leviathans that can power a house...\n",
      "True Solar Panel Price: $262.31\n",
      "Predicted Solar Panel Price: $262.32\n"
     ]
    }
   ],
   "source": [
    "# Pick a few random samples\n",
    "sample_indices = np.random.choice(solar_df.index, size=5, replace=False)\n",
    "\n",
    "for idx in sample_indices:\n",
    "    article_text = solar_df.loc[idx, 'combined_text']\n",
    "    true_price = solar_df.loc[idx, 'solar_panel_price']\n",
    "    \n",
    "    # Encode the article text into BERT embedding\n",
    "    encoded_input = tokenizer(article_text, padding=True, truncation=True, return_tensors='pt', max_length=512)\n",
    "    with torch.no_grad():\n",
    "        model_output = model(**encoded_input)\n",
    "        pooled_output = mean_pooling(model_output, encoded_input['attention_mask'])\n",
    "        article_embedding = pooled_output.cpu().numpy()\n",
    "\n",
    "    # Predict price using your trained Random Forest Regressor\n",
    "    predicted_price = price_model.predict(article_embedding)[0]\n",
    "\n",
    "    print(f\"\\nSample Article Text:\\n{article_text[:300]}...\")  # show only first 300 chars\n",
    "    print(f\"True Solar Panel Price: ${true_price:.2f}\")\n",
    "    print(f\"Predicted Solar Panel Price: ${predicted_price:.2f}\")\n"
   ]
  },
  {
   "cell_type": "markdown",
   "metadata": {},
   "source": [
    "# Final Testing Prediction Function"
   ]
  },
  {
   "cell_type": "code",
   "execution_count": 13,
   "metadata": {},
   "outputs": [],
   "source": [
    "from datetime import timedelta\n",
    "\n",
    "def predict_sentiment_and_price(article_text, article_date=None):\n",
    "    # Step 1: Encode article text to BERT embedding\n",
    "    encoded_input = tokenizer(article_text, padding=True, truncation=True, return_tensors='pt', max_length=512)\n",
    "    with torch.no_grad():\n",
    "        model_output = model(**encoded_input)\n",
    "        pooled_output = mean_pooling(model_output, encoded_input['attention_mask'])\n",
    "        article_embedding = pooled_output.cpu().numpy()\n",
    "\n",
    "    # Step 2: Predict Sentiment\n",
    "    predicted_sentiment = classifier.predict(article_embedding)[0]\n",
    "\n",
    "    # Step 3: Predict Price\n",
    "    predicted_price = price_model.predict(article_embedding)[0]\n",
    "\n",
    "    # Step 4: Historical Price Stats\n",
    "    min_price = solar_df['solar_panel_price'].min()\n",
    "    max_price = solar_df['solar_panel_price'].max()\n",
    "    avg_price = solar_df['solar_panel_price'].mean()\n",
    "\n",
    "    # Step 5: Previous Day and Week Price\n",
    "    if article_date:\n",
    "        article_date = pd.to_datetime(article_date).date()\n",
    "        \n",
    "        previous_day = article_date - timedelta(days=1)\n",
    "        previous_week = article_date - timedelta(days=7)\n",
    "        \n",
    "        # Find closest price for previous day and week\n",
    "        prev_day_price = solar_df.loc[solar_df['publishedAt'].dt.date == previous_day, 'solar_panel_price']\n",
    "        prev_week_price = solar_df.loc[solar_df['publishedAt'].dt.date == previous_week, 'solar_panel_price']\n",
    "        \n",
    "        prev_day_price = prev_day_price.iloc[0] if not prev_day_price.empty else None\n",
    "        prev_week_price = prev_week_price.iloc[0] if not prev_week_price.empty else None\n",
    "    else:\n",
    "        prev_day_price = None\n",
    "        prev_week_price = None\n",
    "\n",
    "    # Step 6: Display Output\n",
    "    print(\"\\n========== Prediction Result ==========\")\n",
    "    print(f\"Input Article (first 300 chars):\\n{article_text[:300]}...\")\n",
    "    print(f\"Article Date: {article_date}\")\n",
    "    print(\"----------------------------------------\")\n",
    "    print(f\"Predicted Sentiment: {predicted_sentiment}\")\n",
    "    print(f\"Predicted Solar Panel Price: ${predicted_price:.2f}\")\n",
    "    print(\"----------------------------------------\")\n",
    "    print(f\"Solar Panel Price Range in Dataset:\")\n",
    "    print(f\"- Minimum Price: ${min_price:.2f}\")\n",
    "    print(f\"- Maximum Price: ${max_price:.2f}\")\n",
    "    print(f\"- Average Price: ${avg_price:.2f}\")\n",
    "    if prev_day_price:\n",
    "        print(f\"- Price 1 day before ({previous_day}): ${prev_day_price:.2f}\")\n",
    "    if prev_week_price:\n",
    "        print(f\"- Price 7 days before ({previous_week}): ${prev_week_price:.2f}\")\n",
    "    print(\"========================================\")\n"
   ]
  },
  {
   "cell_type": "markdown",
   "metadata": {},
   "source": [
    "# Testing on Positive Sentiment Data Sample"
   ]
  },
  {
   "cell_type": "code",
   "execution_count": 14,
   "metadata": {},
   "outputs": [
    {
     "name": "stdout",
     "output_type": "stream",
     "text": [
      "\n",
      "========== Prediction Result ==========\n",
      "Input Article (first 300 chars):\n",
      "Solar panels see increased adoption as governments subsidize renewable energy projects....\n",
      "Article Date: 2024-03-15\n",
      "----------------------------------------\n",
      "Predicted Sentiment: Positive\n",
      "Predicted Solar Panel Price: $259.10\n",
      "----------------------------------------\n",
      "Solar Panel Price Range in Dataset:\n",
      "- Minimum Price: $247.45\n",
      "- Maximum Price: $273.01\n",
      "- Average Price: $260.54\n",
      "- Price 1 day before (2024-03-14): $259.74\n",
      "- Price 7 days before (2024-03-08): $261.88\n",
      "========================================\n"
     ]
    }
   ],
   "source": [
    "# Example usage with an article and a fake date:\n",
    "predict_sentiment_and_price(\n",
    "    \"Solar panels see increased adoption as governments subsidize renewable energy projects.\", \n",
    "    article_date='2024-03-15'  # <-- You pass article's publish date here\n",
    ")"
   ]
  },
  {
   "cell_type": "markdown",
   "metadata": {},
   "source": [
    "# Testing on Negative Sentiment New Data Sample"
   ]
  },
  {
   "cell_type": "code",
   "execution_count": 15,
   "metadata": {},
   "outputs": [
    {
     "name": "stdout",
     "output_type": "stream",
     "text": [
      "\n",
      "========== Prediction Result ==========\n",
      "Input Article (first 300 chars):\n",
      "Solar panel production is facing major shortages due to supply chain disruptions, causing delays and price hikes across global markets....\n",
      "Article Date: 2024-03-15\n",
      "----------------------------------------\n",
      "Predicted Sentiment: Negative\n",
      "Predicted Solar Panel Price: $259.15\n",
      "----------------------------------------\n",
      "Solar Panel Price Range in Dataset:\n",
      "- Minimum Price: $247.45\n",
      "- Maximum Price: $273.01\n",
      "- Average Price: $260.54\n",
      "- Price 1 day before (2024-03-14): $259.74\n",
      "- Price 7 days before (2024-03-08): $261.88\n",
      "========================================\n"
     ]
    }
   ],
   "source": [
    "predict_sentiment_and_price(\n",
    "    \"Solar panel production is facing major shortages due to supply chain disruptions, causing delays and price hikes across global markets.\", \n",
    "    article_date='2024-03-15'   # You can adjust date if you want\n",
    ")"
   ]
  }
 ],
 "metadata": {
  "kernelspec": {
   "display_name": "Python 3",
   "language": "python",
   "name": "python3"
  },
  "language_info": {
   "codemirror_mode": {
    "name": "ipython",
    "version": 3
   },
   "file_extension": ".py",
   "mimetype": "text/x-python",
   "name": "python",
   "nbconvert_exporter": "python",
   "pygments_lexer": "ipython3",
   "version": "3.12.7"
  }
 },
 "nbformat": 4,
 "nbformat_minor": 2
}
